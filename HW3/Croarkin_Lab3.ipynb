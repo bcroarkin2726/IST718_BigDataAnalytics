{
 "cells": [
  {
   "cell_type": "markdown",
   "metadata": {},
   "source": [
    "# Laboratory Exercise - 3 "
   ]
  },
  {
   "cell_type": "markdown",
   "metadata": {},
   "source": [
    "### IST 718 - Big Data Analytics\n",
    "#### By: Brandon Croarkin"
   ]
  },
  {
   "cell_type": "code",
   "execution_count": 9,
   "metadata": {},
   "outputs": [],
   "source": [
    "import os\n",
    "import pandas as pd\n",
    "import matplotlib.pyplot as plt\n",
    "import numpy as np\n",
    "from sklearn.model_selection import train_test_split\n",
    "import keras\n",
    "from keras.utils import to_categorical\n",
    "from keras.models import Sequential\n",
    "from keras.layers import Dense, Dropout, Flatten\n",
    "from keras.layers import Conv2D, MaxPooling2D\n",
    "from keras.layers.normalization import BatchNormalization\n",
    "%matplotlib inline"
   ]
  },
  {
   "cell_type": "markdown",
   "metadata": {},
   "source": [
    "## Obtain "
   ]
  },
  {
   "cell_type": "markdown",
   "metadata": {},
   "source": [
    "The research question is can we use algorithms and compute to identify clothing items?  Specifically, can we determine which algorithm and compute methodology provides us the most efficient approach for classifying simple fashion images?  "
   ]
  },
  {
   "cell_type": "markdown",
   "metadata": {},
   "source": [
    "Using data from Kaggle:\n",
    "https://www.kaggle.com/zalando-research/fashionmnist"
   ]
  },
  {
   "cell_type": "code",
   "execution_count": 49,
   "metadata": {},
   "outputs": [
    {
     "name": "stdout",
     "output_type": "stream",
     "text": [
      "(10000, 785)\n",
      "(60000, 785)\n",
      "   label  pixel1  pixel2  pixel3  pixel4  pixel5  pixel6  pixel7  pixel8  \\\n",
      "0      2       0       0       0       0       0       0       0       0   \n",
      "1      9       0       0       0       0       0       0       0       0   \n",
      "2      6       0       0       0       0       0       0       0       5   \n",
      "3      0       0       0       0       1       2       0       0       0   \n",
      "4      3       0       0       0       0       0       0       0       0   \n",
      "\n",
      "   pixel9  ...  pixel775  pixel776  pixel777  pixel778  pixel779  pixel780  \\\n",
      "0       0  ...         0         0         0         0         0         0   \n",
      "1       0  ...         0         0         0         0         0         0   \n",
      "2       0  ...         0         0         0        30        43         0   \n",
      "3       0  ...         3         0         0         0         0         1   \n",
      "4       0  ...         0         0         0         0         0         0   \n",
      "\n",
      "   pixel781  pixel782  pixel783  pixel784  \n",
      "0         0         0         0         0  \n",
      "1         0         0         0         0  \n",
      "2         0         0         0         0  \n",
      "3         0         0         0         0  \n",
      "4         0         0         0         0  \n",
      "\n",
      "[5 rows x 785 columns]\n"
     ]
    }
   ],
   "source": [
    "# Read in training and test data\n",
    "test = pd.read_csv('fashion-mnist_test.csv')\n",
    "train = pd.read_csv('fashion-mnist_train.csv')\n",
    "print(test.shape)\n",
    "print(train.shape)\n",
    "print(train.head())"
   ]
  },
  {
   "cell_type": "markdown",
   "metadata": {},
   "source": [
    "## Scrub "
   ]
  },
  {
   "cell_type": "code",
   "execution_count": 50,
   "metadata": {},
   "outputs": [],
   "source": [
    "#These are 28 x 28 images\n",
    "img_rows, img_cols = 28, 28\n",
    "input_shape = (img_rows, img_cols, 1)"
   ]
  },
  {
   "cell_type": "code",
   "execution_count": 51,
   "metadata": {},
   "outputs": [],
   "source": [
    "##Scrub the training data\n",
    "\n",
    "#Seperate the labels and the training data\n",
    "X = np.array(train.iloc[:, 1:])\n",
    "y = to_categorical(np.array(train.iloc[:, 0]))\n",
    "\n",
    "#Split into training and test set\n",
    "X_train, X_labels, y_train, y_labels = train_test_split(X, y, test_size=0.2, random_state=13)"
   ]
  },
  {
   "cell_type": "code",
   "execution_count": 55,
   "metadata": {},
   "outputs": [],
   "source": [
    "#Scrub the Test data\n",
    "\n",
    "#Seperate the labels and the testing data\n",
    "X_test = np.array(test.iloc[:, 1:])\n",
    "y_test = to_categorical(np.array(test.iloc[:, 0]))"
   ]
  },
  {
   "cell_type": "code",
   "execution_count": 56,
   "metadata": {},
   "outputs": [],
   "source": [
    "#Reshpae the data to have 4 dimensions\n",
    "X_train = X_train.reshape(X_train.shape[0], img_rows, img_cols, 1)\n",
    "X_test = X_test.reshape(X_test.shape[0], img_rows, img_cols, 1)\n",
    "X_labels = X_labels.reshape(X_labels.shape[0], img_rows, img_cols, 1)\n",
    "\n",
    "#convert to floats\n",
    "X_train = X_train.astype('float32')\n",
    "X_test = X_test.astype('float32')\n",
    "X_labels = X_labels.astype('float32')\n",
    "\n",
    "#standardize the values to a 0-1 scale\n",
    "X_train /= 255\n",
    "X_test /= 255\n",
    "X_labels /= 255"
   ]
  },
  {
   "cell_type": "markdown",
   "metadata": {},
   "source": [
    "## Explore "
   ]
  },
  {
   "cell_type": "markdown",
   "metadata": {},
   "source": [
    "I want to explore what each of the labels represents and view visual representations of each."
   ]
  },
  {
   "cell_type": "code",
   "execution_count": 41,
   "metadata": {},
   "outputs": [],
   "source": [
    "# Create dictionary of target classes\n",
    "label_dict = {\n",
    " 0: 'T-shirt/top',\n",
    " 1: 'Trouser',\n",
    " 2: 'Pullover',\n",
    " 3: 'Dress',\n",
    " 4: 'Coat',\n",
    " 5: 'Sandal',\n",
    " 6: 'Shirt',\n",
    " 7: 'Sneaker',\n",
    " 8: 'Bag',\n",
    " 9: 'Ankle boot'\n",
    "}"
   ]
  },
  {
   "cell_type": "code",
   "execution_count": 82,
   "metadata": {},
   "outputs": [
    {
     "data": {
      "text/html": [
       "<div>\n",
       "<style scoped>\n",
       "    .dataframe tbody tr th:only-of-type {\n",
       "        vertical-align: middle;\n",
       "    }\n",
       "\n",
       "    .dataframe tbody tr th {\n",
       "        vertical-align: top;\n",
       "    }\n",
       "\n",
       "    .dataframe thead th {\n",
       "        text-align: right;\n",
       "    }\n",
       "</style>\n",
       "<table border=\"1\" class=\"dataframe\">\n",
       "  <thead>\n",
       "    <tr style=\"text-align: right;\">\n",
       "      <th></th>\n",
       "      <th>label</th>\n",
       "      <th>pixel1</th>\n",
       "      <th>pixel2</th>\n",
       "      <th>pixel3</th>\n",
       "      <th>pixel4</th>\n",
       "      <th>pixel5</th>\n",
       "      <th>pixel6</th>\n",
       "      <th>pixel7</th>\n",
       "      <th>pixel8</th>\n",
       "      <th>pixel9</th>\n",
       "      <th>...</th>\n",
       "      <th>pixel775</th>\n",
       "      <th>pixel776</th>\n",
       "      <th>pixel777</th>\n",
       "      <th>pixel778</th>\n",
       "      <th>pixel779</th>\n",
       "      <th>pixel780</th>\n",
       "      <th>pixel781</th>\n",
       "      <th>pixel782</th>\n",
       "      <th>pixel783</th>\n",
       "      <th>pixel784</th>\n",
       "    </tr>\n",
       "  </thead>\n",
       "  <tbody>\n",
       "    <tr>\n",
       "      <th>3</th>\n",
       "      <td>0</td>\n",
       "      <td>0</td>\n",
       "      <td>0</td>\n",
       "      <td>0</td>\n",
       "      <td>1</td>\n",
       "      <td>2</td>\n",
       "      <td>0</td>\n",
       "      <td>0</td>\n",
       "      <td>0</td>\n",
       "      <td>0</td>\n",
       "      <td>...</td>\n",
       "      <td>3</td>\n",
       "      <td>0</td>\n",
       "      <td>0</td>\n",
       "      <td>0</td>\n",
       "      <td>0</td>\n",
       "      <td>1</td>\n",
       "      <td>0</td>\n",
       "      <td>0</td>\n",
       "      <td>0</td>\n",
       "      <td>0</td>\n",
       "    </tr>\n",
       "    <tr>\n",
       "      <th>29</th>\n",
       "      <td>1</td>\n",
       "      <td>0</td>\n",
       "      <td>0</td>\n",
       "      <td>0</td>\n",
       "      <td>0</td>\n",
       "      <td>0</td>\n",
       "      <td>0</td>\n",
       "      <td>0</td>\n",
       "      <td>0</td>\n",
       "      <td>0</td>\n",
       "      <td>...</td>\n",
       "      <td>0</td>\n",
       "      <td>1</td>\n",
       "      <td>0</td>\n",
       "      <td>0</td>\n",
       "      <td>0</td>\n",
       "      <td>0</td>\n",
       "      <td>0</td>\n",
       "      <td>0</td>\n",
       "      <td>0</td>\n",
       "      <td>0</td>\n",
       "    </tr>\n",
       "    <tr>\n",
       "      <th>0</th>\n",
       "      <td>2</td>\n",
       "      <td>0</td>\n",
       "      <td>0</td>\n",
       "      <td>0</td>\n",
       "      <td>0</td>\n",
       "      <td>0</td>\n",
       "      <td>0</td>\n",
       "      <td>0</td>\n",
       "      <td>0</td>\n",
       "      <td>0</td>\n",
       "      <td>...</td>\n",
       "      <td>0</td>\n",
       "      <td>0</td>\n",
       "      <td>0</td>\n",
       "      <td>0</td>\n",
       "      <td>0</td>\n",
       "      <td>0</td>\n",
       "      <td>0</td>\n",
       "      <td>0</td>\n",
       "      <td>0</td>\n",
       "      <td>0</td>\n",
       "    </tr>\n",
       "    <tr>\n",
       "      <th>4</th>\n",
       "      <td>3</td>\n",
       "      <td>0</td>\n",
       "      <td>0</td>\n",
       "      <td>0</td>\n",
       "      <td>0</td>\n",
       "      <td>0</td>\n",
       "      <td>0</td>\n",
       "      <td>0</td>\n",
       "      <td>0</td>\n",
       "      <td>0</td>\n",
       "      <td>...</td>\n",
       "      <td>0</td>\n",
       "      <td>0</td>\n",
       "      <td>0</td>\n",
       "      <td>0</td>\n",
       "      <td>0</td>\n",
       "      <td>0</td>\n",
       "      <td>0</td>\n",
       "      <td>0</td>\n",
       "      <td>0</td>\n",
       "      <td>0</td>\n",
       "    </tr>\n",
       "    <tr>\n",
       "      <th>5</th>\n",
       "      <td>4</td>\n",
       "      <td>0</td>\n",
       "      <td>0</td>\n",
       "      <td>0</td>\n",
       "      <td>5</td>\n",
       "      <td>4</td>\n",
       "      <td>5</td>\n",
       "      <td>5</td>\n",
       "      <td>3</td>\n",
       "      <td>5</td>\n",
       "      <td>...</td>\n",
       "      <td>7</td>\n",
       "      <td>8</td>\n",
       "      <td>7</td>\n",
       "      <td>4</td>\n",
       "      <td>3</td>\n",
       "      <td>7</td>\n",
       "      <td>5</td>\n",
       "      <td>0</td>\n",
       "      <td>0</td>\n",
       "      <td>0</td>\n",
       "    </tr>\n",
       "    <tr>\n",
       "      <th>7</th>\n",
       "      <td>5</td>\n",
       "      <td>0</td>\n",
       "      <td>0</td>\n",
       "      <td>0</td>\n",
       "      <td>0</td>\n",
       "      <td>0</td>\n",
       "      <td>0</td>\n",
       "      <td>0</td>\n",
       "      <td>0</td>\n",
       "      <td>0</td>\n",
       "      <td>...</td>\n",
       "      <td>0</td>\n",
       "      <td>0</td>\n",
       "      <td>0</td>\n",
       "      <td>0</td>\n",
       "      <td>0</td>\n",
       "      <td>0</td>\n",
       "      <td>0</td>\n",
       "      <td>0</td>\n",
       "      <td>0</td>\n",
       "      <td>0</td>\n",
       "    </tr>\n",
       "    <tr>\n",
       "      <th>2</th>\n",
       "      <td>6</td>\n",
       "      <td>0</td>\n",
       "      <td>0</td>\n",
       "      <td>0</td>\n",
       "      <td>0</td>\n",
       "      <td>0</td>\n",
       "      <td>0</td>\n",
       "      <td>0</td>\n",
       "      <td>5</td>\n",
       "      <td>0</td>\n",
       "      <td>...</td>\n",
       "      <td>0</td>\n",
       "      <td>0</td>\n",
       "      <td>0</td>\n",
       "      <td>30</td>\n",
       "      <td>43</td>\n",
       "      <td>0</td>\n",
       "      <td>0</td>\n",
       "      <td>0</td>\n",
       "      <td>0</td>\n",
       "      <td>0</td>\n",
       "    </tr>\n",
       "    <tr>\n",
       "      <th>21</th>\n",
       "      <td>7</td>\n",
       "      <td>0</td>\n",
       "      <td>0</td>\n",
       "      <td>0</td>\n",
       "      <td>0</td>\n",
       "      <td>0</td>\n",
       "      <td>0</td>\n",
       "      <td>0</td>\n",
       "      <td>0</td>\n",
       "      <td>0</td>\n",
       "      <td>...</td>\n",
       "      <td>0</td>\n",
       "      <td>0</td>\n",
       "      <td>0</td>\n",
       "      <td>0</td>\n",
       "      <td>0</td>\n",
       "      <td>0</td>\n",
       "      <td>0</td>\n",
       "      <td>0</td>\n",
       "      <td>0</td>\n",
       "      <td>0</td>\n",
       "    </tr>\n",
       "    <tr>\n",
       "      <th>9</th>\n",
       "      <td>8</td>\n",
       "      <td>0</td>\n",
       "      <td>0</td>\n",
       "      <td>0</td>\n",
       "      <td>0</td>\n",
       "      <td>0</td>\n",
       "      <td>0</td>\n",
       "      <td>0</td>\n",
       "      <td>0</td>\n",
       "      <td>0</td>\n",
       "      <td>...</td>\n",
       "      <td>203</td>\n",
       "      <td>214</td>\n",
       "      <td>166</td>\n",
       "      <td>0</td>\n",
       "      <td>0</td>\n",
       "      <td>0</td>\n",
       "      <td>0</td>\n",
       "      <td>0</td>\n",
       "      <td>0</td>\n",
       "      <td>0</td>\n",
       "    </tr>\n",
       "    <tr>\n",
       "      <th>1</th>\n",
       "      <td>9</td>\n",
       "      <td>0</td>\n",
       "      <td>0</td>\n",
       "      <td>0</td>\n",
       "      <td>0</td>\n",
       "      <td>0</td>\n",
       "      <td>0</td>\n",
       "      <td>0</td>\n",
       "      <td>0</td>\n",
       "      <td>0</td>\n",
       "      <td>...</td>\n",
       "      <td>0</td>\n",
       "      <td>0</td>\n",
       "      <td>0</td>\n",
       "      <td>0</td>\n",
       "      <td>0</td>\n",
       "      <td>0</td>\n",
       "      <td>0</td>\n",
       "      <td>0</td>\n",
       "      <td>0</td>\n",
       "      <td>0</td>\n",
       "    </tr>\n",
       "  </tbody>\n",
       "</table>\n",
       "<p>10 rows × 785 columns</p>\n",
       "</div>"
      ],
      "text/plain": [
       "    label  pixel1  pixel2  pixel3  pixel4  pixel5  pixel6  pixel7  pixel8  \\\n",
       "3       0       0       0       0       1       2       0       0       0   \n",
       "29      1       0       0       0       0       0       0       0       0   \n",
       "0       2       0       0       0       0       0       0       0       0   \n",
       "4       3       0       0       0       0       0       0       0       0   \n",
       "5       4       0       0       0       5       4       5       5       3   \n",
       "7       5       0       0       0       0       0       0       0       0   \n",
       "2       6       0       0       0       0       0       0       0       5   \n",
       "21      7       0       0       0       0       0       0       0       0   \n",
       "9       8       0       0       0       0       0       0       0       0   \n",
       "1       9       0       0       0       0       0       0       0       0   \n",
       "\n",
       "    pixel9  ...  pixel775  pixel776  pixel777  pixel778  pixel779  pixel780  \\\n",
       "3        0  ...         3         0         0         0         0         1   \n",
       "29       0  ...         0         1         0         0         0         0   \n",
       "0        0  ...         0         0         0         0         0         0   \n",
       "4        0  ...         0         0         0         0         0         0   \n",
       "5        5  ...         7         8         7         4         3         7   \n",
       "7        0  ...         0         0         0         0         0         0   \n",
       "2        0  ...         0         0         0        30        43         0   \n",
       "21       0  ...         0         0         0         0         0         0   \n",
       "9        0  ...       203       214       166         0         0         0   \n",
       "1        0  ...         0         0         0         0         0         0   \n",
       "\n",
       "    pixel781  pixel782  pixel783  pixel784  \n",
       "3          0         0         0         0  \n",
       "29         0         0         0         0  \n",
       "0          0         0         0         0  \n",
       "4          0         0         0         0  \n",
       "5          5         0         0         0  \n",
       "7          0         0         0         0  \n",
       "2          0         0         0         0  \n",
       "21         0         0         0         0  \n",
       "9          0         0         0         0  \n",
       "1          0         0         0         0  \n",
       "\n",
       "[10 rows x 785 columns]"
      ]
     },
     "execution_count": 82,
     "metadata": {},
     "output_type": "execute_result"
    }
   ],
   "source": [
    "#make a train dataset for the images with one of each label\n",
    "train_images = train.drop_duplicates(subset = ['label']).sort_values(by = ['label'])\n",
    "train_images"
   ]
  },
  {
   "cell_type": "code",
   "execution_count": null,
   "metadata": {},
   "outputs": [],
   "source": [
    "fig, ax = plt.subplots(nrows=5, ncols=5, sharex=True, sharey=True,)\n",
    "ax = ax.flatten()\n",
    "for i in range(25):\n",
    "    img = miscl_img[i].reshape(28, 28)\n",
    "    ax[i].imshow(img, cmap='Greys', interpolation='nearest')\n",
    "    ax[i].set_title('%d) t: %d p: %d' % (i+1, correct_lab[i], miscl_lab[i]))\n",
    "\n",
    "ax[0].set_xticks([])\n",
    "ax[0].set_yticks([])\n",
    "plt.tight_layout()\n",
    "# plt.savefig('./figures/mnist_miscl.png', dpi=300)\n",
    "plt.show()"
   ]
  },
  {
   "cell_type": "code",
   "execution_count": 102,
   "metadata": {},
   "outputs": [
    {
     "data": {
      "image/png": "[encoded data removed]",
      "text/plain": [
       "<Figure size 576x576 with 10 Axes>"
      ]
     },
     "metadata": {},
     "output_type": "display_data"
    }
   ],
   "source": [
    "#initiate figure\n",
    "fig, ax = plt.subplots(nrows=5, ncols=2, sharex=True, sharey=True)\n",
    "ax = ax.flatten()\n",
    "\n",
    "#increase size of plots\n",
    "fig.set_figheight(8)\n",
    "fig.set_figwidth(8)\n",
    "\n",
    "#loop over df and plot images\n",
    "for index, row in train_images.iterrows():\n",
    "    img = np.array(row[1:]).reshape(28,28)\n",
    "    ax[row[0]].imshow(img, cmap='Greys')\n",
    "    ax[row[0]].set_title(label_dict[row[0]])\n",
    "    #plt.imshow(np.array(row[1:]).reshape(28,28), cmap = \"Greys\")\n",
    "\n",
    "ax[0].set_xticks([])\n",
    "ax[0].set_yticks([])\n",
    "plt.tight_layout()"
   ]
  },
  {
   "cell_type": "code",
   "execution_count": 59,
   "metadata": {},
   "outputs": [
    {
     "name": "stdout",
     "output_type": "stream",
     "text": [
      "0\n"
     ]
    },
    {
     "data": {
      "text/plain": [
       "<matplotlib.image.AxesImage at 0x1dacbfca128>"
      ]
     },
     "execution_count": 59,
     "metadata": {},
     "output_type": "execute_result"
    },
    {
     "data": {
      "image/png": "[encoded data removed]",
      "text/plain": [
       "<Figure size 432x288 with 1 Axes>"
      ]
     },
     "metadata": {
      "needs_background": "light"
     },
     "output_type": "display_data"
    }
   ],
   "source": [
    "sample_1 = X_train[0].reshape(28,28)\n",
    "#get corresponding label\n",
    "sample_label_1 = np.where(X_labels[0] == 1)[0][0]\n",
    "plt.imshow(X_train[0].reshape(28,28), cmap = 'Greys')"
   ]
  },
  {
   "cell_type": "code",
   "execution_count": 79,
   "metadata": {},
   "outputs": [
    {
     "data": {
      "text/plain": [
       "<matplotlib.image.AxesImage at 0x1da992108d0>"
      ]
     },
     "execution_count": 79,
     "metadata": {},
     "output_type": "execute_result"
    },
    {
     "data": {
      "image/png": "[encoded data removed]",
      "text/plain": [
       "<Figure size 432x288 with 1 Axes>"
      ]
     },
     "metadata": {
      "needs_background": "light"
     },
     "output_type": "display_data"
    }
   ],
   "source": [
    "plt.imshow(np.array(train.iloc[0,1:]).reshape(28,28), cmap = \"Greys\")"
   ]
  },
  {
   "cell_type": "code",
   "execution_count": 46,
   "metadata": {},
   "outputs": [
    {
     "data": {
      "text/plain": [
       "array([0., 0., 1., 0., 0., 0., 0., 0., 0., 0.], dtype=float32)"
      ]
     },
     "execution_count": 46,
     "metadata": {},
     "output_type": "execute_result"
    }
   ],
   "source": [
    "y[0]"
   ]
  },
  {
   "cell_type": "markdown",
   "metadata": {},
   "source": [
    "## Model "
   ]
  },
  {
   "cell_type": "markdown",
   "metadata": {},
   "source": [
    "### Neural Network - CNN "
   ]
  },
  {
   "cell_type": "code",
   "execution_count": 13,
   "metadata": {},
   "outputs": [
    {
     "name": "stdout",
     "output_type": "stream",
     "text": [
      "WARNING:tensorflow:From C:\\Users\\brcro\\Anaconda3\\envs\\CleanEnvironment\\lib\\site-packages\\tensorflow\\python\\framework\\op_def_library.py:263: colocate_with (from tensorflow.python.framework.ops) is deprecated and will be removed in a future version.\n",
      "Instructions for updating:\n",
      "Colocations handled automatically by placer.\n",
      "WARNING:tensorflow:From C:\\Users\\brcro\\Anaconda3\\envs\\CleanEnvironment\\lib\\site-packages\\keras\\backend\\tensorflow_backend.py:3445: calling dropout (from tensorflow.python.ops.nn_ops) with keep_prob is deprecated and will be removed in a future version.\n",
      "Instructions for updating:\n",
      "Please use `rate` instead of `keep_prob`. Rate should be set to `rate = 1 - keep_prob`.\n"
     ]
    }
   ],
   "source": [
    "batch_size = 256\n",
    "num_classes = 10\n",
    "epochs = 50\n",
    "\n",
    "#input image dimensions\n",
    "img_rows, img_cols = 28, 28\n",
    "\n",
    "model = Sequential()\n",
    "model.add(Conv2D(32, kernel_size=(3, 3),\n",
    "                 activation='relu',\n",
    "                 kernel_initializer='he_normal',\n",
    "                 input_shape=input_shape))\n",
    "model.add(MaxPooling2D((2, 2)))\n",
    "model.add(Dropout(0.25))\n",
    "model.add(Conv2D(64, (3, 3), activation='relu'))\n",
    "model.add(MaxPooling2D(pool_size=(2, 2)))\n",
    "model.add(Dropout(0.25))\n",
    "model.add(Conv2D(128, (3, 3), activation='relu'))\n",
    "model.add(Dropout(0.4))\n",
    "model.add(Flatten())\n",
    "model.add(Dense(128, activation='relu'))\n",
    "model.add(Dropout(0.3))\n",
    "model.add(Dense(num_classes, activation='softmax'))\n",
    "\n",
    "model.compile(loss=keras.losses.categorical_crossentropy,\n",
    "              optimizer=keras.optimizers.Adam(),\n",
    "              metrics=['accuracy'])"
   ]
  },
  {
   "cell_type": "code",
   "execution_count": 14,
   "metadata": {},
   "outputs": [
    {
     "name": "stdout",
     "output_type": "stream",
     "text": [
      "_________________________________________________________________\n",
      "Layer (type)                 Output Shape              Param #   \n",
      "=================================================================\n",
      "conv2d_1 (Conv2D)            (None, 26, 26, 32)        320       \n",
      "_________________________________________________________________\n",
      "max_pooling2d_1 (MaxPooling2 (None, 13, 13, 32)        0         \n",
      "_________________________________________________________________\n",
      "dropout_1 (Dropout)          (None, 13, 13, 32)        0         \n",
      "_________________________________________________________________\n",
      "conv2d_2 (Conv2D)            (None, 11, 11, 64)        18496     \n",
      "_________________________________________________________________\n",
      "max_pooling2d_2 (MaxPooling2 (None, 5, 5, 64)          0         \n",
      "_________________________________________________________________\n",
      "dropout_2 (Dropout)          (None, 5, 5, 64)          0         \n",
      "_________________________________________________________________\n",
      "conv2d_3 (Conv2D)            (None, 3, 3, 128)         73856     \n",
      "_________________________________________________________________\n",
      "dropout_3 (Dropout)          (None, 3, 3, 128)         0         \n",
      "_________________________________________________________________\n",
      "flatten_1 (Flatten)          (None, 1152)              0         \n",
      "_________________________________________________________________\n",
      "dense_1 (Dense)              (None, 128)               147584    \n",
      "_________________________________________________________________\n",
      "dropout_4 (Dropout)          (None, 128)               0         \n",
      "_________________________________________________________________\n",
      "dense_2 (Dense)              (None, 10)                1290      \n",
      "=================================================================\n",
      "Total params: 241,546\n",
      "Trainable params: 241,546\n",
      "Non-trainable params: 0\n",
      "_________________________________________________________________\n"
     ]
    }
   ],
   "source": [
    "model.summary()"
   ]
  },
  {
   "cell_type": "code",
   "execution_count": 15,
   "metadata": {},
   "outputs": [
    {
     "name": "stdout",
     "output_type": "stream",
     "text": [
      "WARNING:tensorflow:From C:\\Users\\brcro\\Anaconda3\\envs\\CleanEnvironment\\lib\\site-packages\\tensorflow\\python\\ops\\math_ops.py:3066: to_int32 (from tensorflow.python.ops.math_ops) is deprecated and will be removed in a future version.\n",
      "Instructions for updating:\n",
      "Use tf.cast instead.\n",
      "Train on 48000 samples, validate on 12000 samples\n",
      "Epoch 1/50\n",
      "48000/48000 [==============================] - 49s 1ms/step - loss: 0.8406 - acc: 0.6871 - val_loss: 0.5126 - val_acc: 0.8100\n",
      "Epoch 2/50\n",
      "48000/48000 [==============================] - 45s 936us/step - loss: 0.5205 - acc: 0.8072 - val_loss: 0.4095 - val_acc: 0.8490\n",
      "Epoch 3/50\n",
      "48000/48000 [==============================] - 46s 962us/step - loss: 0.4452 - acc: 0.8364 - val_loss: 0.3584 - val_acc: 0.8690\n",
      "Epoch 4/50\n",
      "48000/48000 [==============================] - 47s 981us/step - loss: 0.3967 - acc: 0.8559 - val_loss: 0.3277 - val_acc: 0.8822\n",
      "Epoch 5/50\n",
      "48000/48000 [==============================] - 45s 944us/step - loss: 0.3647 - acc: 0.8676 - val_loss: 0.3099 - val_acc: 0.8877\n",
      "Epoch 6/50\n",
      "48000/48000 [==============================] - 48s 996us/step - loss: 0.3458 - acc: 0.8740 - val_loss: 0.2989 - val_acc: 0.8921\n",
      "Epoch 7/50\n",
      "48000/48000 [==============================] - 51s 1ms/step - loss: 0.3256 - acc: 0.8813 - val_loss: 0.2837 - val_acc: 0.8938\n",
      "Epoch 8/50\n",
      "48000/48000 [==============================] - 49s 1ms/step - loss: 0.3125 - acc: 0.8864 - val_loss: 0.2720 - val_acc: 0.8978\n",
      "Epoch 9/50\n",
      "48000/48000 [==============================] - 49s 1ms/step - loss: 0.2996 - acc: 0.8911 - val_loss: 0.2710 - val_acc: 0.8980\n",
      "Epoch 10/50\n",
      "48000/48000 [==============================] - 49s 1ms/step - loss: 0.2967 - acc: 0.8914 - val_loss: 0.2727 - val_acc: 0.8978\n",
      "Epoch 11/50\n",
      "48000/48000 [==============================] - 49s 1ms/step - loss: 0.2867 - acc: 0.8949 - val_loss: 0.2583 - val_acc: 0.9016\n",
      "Epoch 12/50\n",
      "48000/48000 [==============================] - 49s 1ms/step - loss: 0.2797 - acc: 0.8972 - val_loss: 0.2517 - val_acc: 0.9051\n",
      "Epoch 13/50\n",
      "48000/48000 [==============================] - 48s 1ms/step - loss: 0.2730 - acc: 0.9003 - val_loss: 0.2490 - val_acc: 0.9045\n",
      "Epoch 14/50\n",
      "48000/48000 [==============================] - 49s 1ms/step - loss: 0.2648 - acc: 0.9015 - val_loss: 0.2570 - val_acc: 0.9054\n",
      "Epoch 15/50\n",
      "48000/48000 [==============================] - 50s 1ms/step - loss: 0.2585 - acc: 0.9038 - val_loss: 0.2450 - val_acc: 0.9079\n",
      "Epoch 16/50\n",
      "48000/48000 [==============================] - 49s 1ms/step - loss: 0.2573 - acc: 0.9048 - val_loss: 0.2426 - val_acc: 0.9082\n",
      "Epoch 17/50\n",
      "48000/48000 [==============================] - 49s 1ms/step - loss: 0.2518 - acc: 0.9072 - val_loss: 0.2526 - val_acc: 0.9042\n",
      "Epoch 18/50\n",
      "48000/48000 [==============================] - 49s 1ms/step - loss: 0.2486 - acc: 0.9077 - val_loss: 0.2360 - val_acc: 0.9109\n",
      "Epoch 19/50\n",
      "48000/48000 [==============================] - 47s 973us/step - loss: 0.2416 - acc: 0.9094 - val_loss: 0.2352 - val_acc: 0.9120\n",
      "Epoch 20/50\n",
      "48000/48000 [==============================] - 34s 706us/step - loss: 0.2390 - acc: 0.9127 - val_loss: 0.2374 - val_acc: 0.9112\n",
      "Epoch 21/50\n",
      "48000/48000 [==============================] - 34s 718us/step - loss: 0.2417 - acc: 0.9105 - val_loss: 0.2347 - val_acc: 0.9118\n",
      "Epoch 22/50\n",
      "48000/48000 [==============================] - 34s 711us/step - loss: 0.2321 - acc: 0.9132 - val_loss: 0.2279 - val_acc: 0.9150\n",
      "Epoch 23/50\n",
      "48000/48000 [==============================] - 32s 675us/step - loss: 0.2310 - acc: 0.9148 - val_loss: 0.2273 - val_acc: 0.9127\n",
      "Epoch 24/50\n",
      "48000/48000 [==============================] - 35s 729us/step - loss: 0.2240 - acc: 0.9175 - val_loss: 0.2285 - val_acc: 0.9133\n",
      "Epoch 25/50\n",
      "48000/48000 [==============================] - 36s 742us/step - loss: 0.2225 - acc: 0.9160 - val_loss: 0.2242 - val_acc: 0.9147\n",
      "Epoch 26/50\n",
      "48000/48000 [==============================] - 33s 685us/step - loss: 0.2223 - acc: 0.9181 - val_loss: 0.2216 - val_acc: 0.9154\n",
      "Epoch 27/50\n",
      "48000/48000 [==============================] - 33s 688us/step - loss: 0.2205 - acc: 0.9168 - val_loss: 0.2267 - val_acc: 0.9149\n",
      "Epoch 28/50\n",
      "48000/48000 [==============================] - 34s 708us/step - loss: 0.2197 - acc: 0.9163 - val_loss: 0.2278 - val_acc: 0.9138\n",
      "Epoch 29/50\n",
      "48000/48000 [==============================] - 32s 677us/step - loss: 0.2162 - acc: 0.9194 - val_loss: 0.2239 - val_acc: 0.9151\n",
      "Epoch 30/50\n",
      "48000/48000 [==============================] - 32s 659us/step - loss: 0.2102 - acc: 0.9209 - val_loss: 0.2227 - val_acc: 0.9172\n",
      "Epoch 31/50\n",
      "48000/48000 [==============================] - 32s 667us/step - loss: 0.2130 - acc: 0.9202 - val_loss: 0.2316 - val_acc: 0.9137\n",
      "Epoch 32/50\n",
      "48000/48000 [==============================] - 34s 709us/step - loss: 0.2098 - acc: 0.9215 - val_loss: 0.2209 - val_acc: 0.9177\n",
      "Epoch 33/50\n",
      "48000/48000 [==============================] - 33s 677us/step - loss: 0.2115 - acc: 0.9210 - val_loss: 0.2196 - val_acc: 0.9181\n",
      "Epoch 34/50\n",
      "48000/48000 [==============================] - 33s 682us/step - loss: 0.2022 - acc: 0.9228 - val_loss: 0.2188 - val_acc: 0.9202\n",
      "Epoch 35/50\n",
      "48000/48000 [==============================] - 33s 697us/step - loss: 0.2023 - acc: 0.9230 - val_loss: 0.2235 - val_acc: 0.9150\n",
      "Epoch 36/50\n",
      "48000/48000 [==============================] - 35s 722us/step - loss: 0.2042 - acc: 0.9233 - val_loss: 0.2212 - val_acc: 0.9184\n",
      "Epoch 37/50\n",
      "48000/48000 [==============================] - 32s 676us/step - loss: 0.1992 - acc: 0.9245 - val_loss: 0.2235 - val_acc: 0.9165\n",
      "Epoch 38/50\n",
      "48000/48000 [==============================] - 32s 676us/step - loss: 0.1976 - acc: 0.9267 - val_loss: 0.2295 - val_acc: 0.9156\n",
      "Epoch 39/50\n",
      "48000/48000 [==============================] - 35s 724us/step - loss: 0.1982 - acc: 0.9236 - val_loss: 0.2178 - val_acc: 0.9194\n",
      "Epoch 40/50\n",
      "48000/48000 [==============================] - 34s 699us/step - loss: 0.1946 - acc: 0.9266 - val_loss: 0.2226 - val_acc: 0.9185\n",
      "Epoch 41/50\n",
      "48000/48000 [==============================] - 33s 682us/step - loss: 0.1906 - acc: 0.9277 - val_loss: 0.2225 - val_acc: 0.9184\n",
      "Epoch 42/50\n",
      "48000/48000 [==============================] - 33s 688us/step - loss: 0.1967 - acc: 0.9263 - val_loss: 0.2234 - val_acc: 0.9175\n",
      "Epoch 43/50\n",
      "48000/48000 [==============================] - 35s 726us/step - loss: 0.1915 - acc: 0.9271 - val_loss: 0.2237 - val_acc: 0.9170\n",
      "Epoch 44/50\n",
      "48000/48000 [==============================] - 33s 679us/step - loss: 0.1927 - acc: 0.9277 - val_loss: 0.2135 - val_acc: 0.9217\n",
      "Epoch 45/50\n",
      "48000/48000 [==============================] - 33s 678us/step - loss: 0.1897 - acc: 0.9287 - val_loss: 0.2180 - val_acc: 0.9225\n",
      "Epoch 46/50\n",
      "48000/48000 [==============================] - 34s 709us/step - loss: 0.1901 - acc: 0.9281 - val_loss: 0.2119 - val_acc: 0.9231\n",
      "Epoch 47/50\n",
      "48000/48000 [==============================] - 34s 705us/step - loss: 0.1858 - acc: 0.9288 - val_loss: 0.2143 - val_acc: 0.9221\n",
      "Epoch 48/50\n",
      "48000/48000 [==============================] - 33s 679us/step - loss: 0.1844 - acc: 0.9298 - val_loss: 0.2126 - val_acc: 0.9209\n",
      "Epoch 49/50\n",
      "48000/48000 [==============================] - 33s 681us/step - loss: 0.1830 - acc: 0.9308 - val_loss: 0.2145 - val_acc: 0.9210\n",
      "Epoch 50/50\n",
      "48000/48000 [==============================] - 31s 649us/step - loss: 0.1820 - acc: 0.9312 - val_loss: 0.2125 - val_acc: 0.9228\n"
     ]
    }
   ],
   "source": [
    "history = model.fit(X_train, y_train,\n",
    "          batch_size=batch_size,\n",
    "          epochs=epochs,\n",
    "          verbose=1,\n",
    "          validation_data=(X_labels, y_labels))\n",
    "score = model.evaluate(X_test, y_test, verbose=0)"
   ]
  },
  {
   "cell_type": "code",
   "execution_count": 29,
   "metadata": {},
   "outputs": [
    {
     "name": "stdout",
     "output_type": "stream",
     "text": [
      "Test loss: 0.2005476237297058\n",
      "Test accuracy: 0.9258\n"
     ]
    }
   ],
   "source": [
    "print('Test loss:', score[0])\n",
    "print('Test accuracy:', score[1])"
   ]
  },
  {
   "cell_type": "markdown",
   "metadata": {},
   "source": [
    "## SVM "
   ]
  },
  {
   "cell_type": "code",
   "execution_count": null,
   "metadata": {},
   "outputs": [],
   "source": []
  },
  {
   "cell_type": "code",
   "execution_count": null,
   "metadata": {},
   "outputs": [],
   "source": []
  },
  {
   "cell_type": "code",
   "execution_count": null,
   "metadata": {},
   "outputs": [],
   "source": []
  },
  {
   "cell_type": "code",
   "execution_count": null,
   "metadata": {},
   "outputs": [],
   "source": []
  },
  {
   "cell_type": "code",
   "execution_count": null,
   "metadata": {},
   "outputs": [],
   "source": []
  },
  {
   "cell_type": "markdown",
   "metadata": {},
   "source": [
    "### References"
   ]
  },
  {
   "cell_type": "markdown",
   "metadata": {},
   "source": [
    "1. https://towardsdatascience.com/building-a-convolutional-neural-network-cnn-in-keras-329fbbadc5f5"
   ]
  },
  {
   "cell_type": "code",
   "execution_count": null,
   "metadata": {},
   "outputs": [],
   "source": []
  }
 ],
 "metadata": {
  "kernelspec": {
   "display_name": "Python 3",
   "language": "python",
   "name": "python3"
  },
  "language_info": {
   "codemirror_mode": {
    "name": "ipython",
    "version": 3
   },
   "file_extension": ".py",
   "mimetype": "text/x-python",
   "name": "python",
   "nbconvert_exporter": "python",
   "pygments_lexer": "ipython3",
   "version": "3.6.8"
  }
 },
 "nbformat": 4,
 "nbformat_minor": 2
}
